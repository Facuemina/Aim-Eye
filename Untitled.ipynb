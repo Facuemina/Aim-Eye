{
 "cells": [
  {
   "cell_type": "code",
   "execution_count": 1,
   "id": "054b2963",
   "metadata": {},
   "outputs": [
    {
     "name": "stderr",
     "output_type": "stream",
     "text": [
      "C:\\Users\\Facundo\\anaconda3\\lib\\site-packages\\scipy\\__init__.py:146: UserWarning: A NumPy version >=1.16.5 and <1.23.0 is required for this version of SciPy (detected version 1.23.1\n",
      "  warnings.warn(f\"A NumPy version >={np_minversion} and <{np_maxversion}\"\n"
     ]
    }
   ],
   "source": [
    "import numpy as np\n",
    "import matplotlib.pyplot as plt\n",
    "# from umap import UMAP\n",
    "import os\n",
    "import sys\n",
    "\n",
    "from scipy.ndimage import uniform_filter1d\n",
    "import scipy.io\n",
    "import requests\n",
    "\n",
    "from scipy.ndimage import uniform_filter1d\n",
    "from scipy.stats import zscore\n",
    "from sklearn.decomposition import PCA\n",
    "import sklearn.model_selection as ms\n",
    "import sklearn.linear_model as lm\n",
    "import sklearn as sk\n",
    "from sklearn import linear_model\n",
    "\n",
    "import random\n",
    "import seaborn as sns"
   ]
  },
  {
   "cell_type": "code",
   "execution_count": 5,
   "id": "f469f3b7",
   "metadata": {},
   "outputs": [],
   "source": [
    "def plot_full_neurons(MSE_ffnn,MSE_linear,R2_ffnn,R2_linear):\n",
    "    sns.set_theme(style=\"whitegrid\")\n",
    "    fig, ax = plt.subplots(figsize=(15,10))\n",
    "    pass\n",
    "\n",
    "    plt.subplot(2,1,1)\n",
    "    ax = sns.boxplot(data=[MSE_ffnn,MSE_linear])\n",
    "    ax = sns.stripplot(data=[MSE_ffnn,MSE_linear],color='orange')\n",
    "    ax.set_xticks([0,1])\n",
    "    ax.set_xticklabels(['FFNN','Linear'])#, minor=False, rotation=45)\n",
    "    plt.ylabel('MSE')\n",
    "\n",
    "    plt.subplot(2,1,2)\n",
    "    ax = sns.boxplot(data=[R2_ffnn,R2_linear])\n",
    "    ax = sns.stripplot(data=[R2_ffnn,R2_linear],color='orange')\n",
    "    ax.set_xticks([0,1])\n",
    "    ax.set_xticklabels(['FFNN','Linear'])#, minor=False, rotation=45)\n",
    "    plt.ylabel('$R^2$')"
   ]
  },
  {
   "cell_type": "code",
   "execution_count": 15,
   "id": "32fc3250",
   "metadata": {},
   "outputs": [
    {
     "ename": "SyntaxError",
     "evalue": "invalid syntax (2565441150.py, line 59)",
     "output_type": "error",
     "traceback": [
      "\u001b[1;36m  File \u001b[1;32m\"C:\\Users\\Facundo\\AppData\\Local\\Temp\\ipykernel_22208\\2565441150.py\"\u001b[1;36m, line \u001b[1;32m59\u001b[0m\n\u001b[1;33m    0.7873614504217592,\u001b[0m\n\u001b[1;37m    ^\u001b[0m\n\u001b[1;31mSyntaxError\u001b[0m\u001b[1;31m:\u001b[0m invalid syntax\n"
     ]
    }
   ],
   "source": [
    "SPEEDMSE_ffnn = [6.866356128391687,\n",
    "6.366794171239743,\n",
    "5.987074566142286,\n",
    "6.560384624368556,\n",
    "6.285645063861835,\n",
    "6.442196950568228,\n",
    "6.382460578051267,\n",
    "5.863143851829212,\n",
    "5.75631311607715,\n",
    "5.871238035268867,\n",
    "5.783004395385625,\n",
    "6.0383273305048855,\n",
    "6.100128109185668,\n",
    "6.72436894393752,\n",
    "7.017985002408987]\n",
    "\n",
    "SPEEDR2_ffnn=[0.7881417450630932,\n",
    "0.8104622471073462,\n",
    "0.8122226890934376,\n",
    "0.784262093118131,\n",
    "0.8023411546383183,\n",
    "0.8110128206262592,\n",
    "0.8039624990725671,\n",
    "0.8177201258241861,\n",
    "0.8198457311135154,\n",
    "0.7977398544160941,\n",
    "0.8072306647917655,\n",
    "0.7989512751015918,\n",
    "0.8035319265723804,\n",
    "0.7906653924125161,\n",
    "0.7781188506118705]\n",
    "\n",
    "SPEEDMSE_linear=[6.810276342559801,\n",
    "6.663392864206315,\n",
    "6.471639866558716,\n",
    "6.960159246986157,\n",
    "6.611773111496303,\n",
    "6.7687820142256525,\n",
    "6.652546431986695,\n",
    "6.049236399766883,\n",
    "6.120311218760022,\n",
    "6.15405675197735,\n",
    "6.073730925800172,\n",
    "6.119748232872134,\n",
    "6.249945122673472,\n",
    "6.855281586918762,\n",
    "7.161054982677799]\n",
    "\n",
    "SPEEDR2_linear=[0.7915882449149014,\n",
    "0.792391588139079,\n",
    "0.7805970490320597,\n",
    "0.7571678364675647,\n",
    "0.7812981632032682,\n",
    "0.7913658467860287,\n",
    "0.7870200580450141,\n",
    "0.8059655990141215,\n",
    "0.7963414009938554,\n",
    "0.7777847126278934\n",
    "0.7873614504217592,\n",
    "0.7934928322377003,\n",
    "0.7937630472831454,\n",
    "0.7824352348493858,\n",
    "0.7689800146949081]"
   ]
  },
  {
   "cell_type": "code",
   "execution_count": 14,
   "id": "a44884f8",
   "metadata": {},
   "outputs": [
    {
     "data": {
      "text/plain": [
       "<Figure size 432x288 with 0 Axes>"
      ]
     },
     "metadata": {},
     "output_type": "display_data"
    },
    {
     "data": {
      "image/png": "[encoded data removed]",
      "text/plain": [
       "<Figure size 1080x720 with 2 Axes>"
      ]
     },
     "metadata": {},
     "output_type": "display_data"
    }
   ],
   "source": [
    "f = plt.figure()\n",
    "plot_full_neurons(SPEEDMSE_ffnn,SPEEDMSE_linear,SPEEDR2_ffnn,SPEEDR2_linear)\n",
    "plt.savefig('data_stimuli/'+'rat2'+'_FullSpeed.png')"
   ]
  },
  {
   "cell_type": "code",
   "execution_count": null,
   "id": "a4d99e9d",
   "metadata": {},
   "outputs": [],
   "source": []
  },
  {
   "cell_type": "code",
   "execution_count": null,
   "id": "ae0a6130",
   "metadata": {},
   "outputs": [],
   "source": []
  },
  {
   "cell_type": "code",
   "execution_count": null,
   "id": "bfca37a9",
   "metadata": {},
   "outputs": [],
   "source": []
  },
  {
   "cell_type": "code",
   "execution_count": null,
   "id": "3aaf7ca3",
   "metadata": {},
   "outputs": [],
   "source": []
  },
  {
   "cell_type": "code",
   "execution_count": null,
   "id": "01871e38",
   "metadata": {},
   "outputs": [],
   "source": []
  },
  {
   "cell_type": "code",
   "execution_count": null,
   "id": "46bb1903",
   "metadata": {},
   "outputs": [],
   "source": []
  },
  {
   "cell_type": "code",
   "execution_count": null,
   "id": "d1a5682b",
   "metadata": {},
   "outputs": [],
   "source": []
  }
 ],
 "metadata": {
  "kernelspec": {
   "display_name": "Python 3 (ipykernel)",
   "language": "python",
   "name": "python3"
  },
  "language_info": {
   "codemirror_mode": {
    "name": "ipython",
    "version": 3
   },
   "file_extension": ".py",
   "mimetype": "text/x-python",
   "name": "python",
   "nbconvert_exporter": "python",
   "pygments_lexer": "ipython3",
   "version": "3.8.12"
  }
 },
 "nbformat": 4,
 "nbformat_minor": 5
}
