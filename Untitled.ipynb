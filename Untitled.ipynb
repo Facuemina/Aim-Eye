{
 "cells": [
  {
   "cell_type": "code",
   "execution_count": 1,
   "id": "054b2963",
   "metadata": {},
   "outputs": [
    {
     "name": "stderr",
     "output_type": "stream",
     "text": [
      "C:\\Users\\Facundo\\anaconda3\\lib\\site-packages\\scipy\\__init__.py:146: UserWarning: A NumPy version >=1.16.5 and <1.23.0 is required for this version of SciPy (detected version 1.23.1\n",
      "  warnings.warn(f\"A NumPy version >={np_minversion} and <{np_maxversion}\"\n"
     ]
    }
   ],
   "source": [
    "import numpy as np\n",
    "import matplotlib.pyplot as plt\n",
    "# from umap import UMAP\n",
    "import os\n",
    "import sys\n",
    "\n",
    "from scipy.ndimage import uniform_filter1d\n",
    "import scipy.io\n",
    "import requests\n",
    "\n",
    "from scipy.ndimage import uniform_filter1d\n",
    "from scipy.stats import zscore\n",
    "from sklearn.decomposition import PCA\n",
    "import sklearn.model_selection as ms\n",
    "import sklearn.linear_model as lm\n",
    "import sklearn as sk\n",
    "from sklearn import linear_model\n",
    "\n",
    "import random\n",
    "import seaborn as sns"
   ]
  },
  {
   "cell_type": "code",
   "execution_count": 76,
   "id": "718c7671",
   "metadata": {},
   "outputs": [],
   "source": [
    "def compute_1Dinfo(Xdata,ydata,bins = 200):\n",
    "    map_bins = np.linspace(min(ydata),max(ydata),bins)\n",
    "    maprate = np.zeros_like(map_bins)\n",
    "    timerate = np.zeros_like(map_bins)\n",
    "    firingrate = np.zeros((len(map_bins),Xdata.shape[1]))\n",
    "    total_cellfiring = np.nansum(Xdata,0)\n",
    "    \n",
    "    for t in range(len(ydata)):\n",
    "        ind = int(min(np.where(ydata[t]>=map_bins)[0]))\n",
    "        maprate[ind] += 1\n",
    "        timerate[ind] += 1\n",
    "        firingrate[ind,:] += Xdata[t,:]\n",
    "     \n",
    "    mnFr = firingrate/total_cellfiring/maprate\n",
    "    maprate = maprate/sum(maprate)\n",
    "        \n",
    "    return np.nansum(mnFr*maprate*np.log(mnFr),0)/np.log(2)    "
   ]
  },
  {
   "cell_type": "code",
   "execution_count": 21,
   "id": "f469f3b7",
   "metadata": {},
   "outputs": [],
   "source": [
    "#NON STIMULI\n",
    "dirf = r'C:\\Users\\Facundo\\Desktop\\CONICET\\Doctorado\\Cursos\\Neuro Match Academy\\Project Continuation/'\n",
    "general_url = 'https://figshare.com/articles/dataset/Recordings_of_ten_thousand_neurons_in_visual_cortex_during_spontaneous_behaviors/6163622/'\n",
    "MOUSE_IND = 0\n",
    "\n",
    "mice_files = ['spont_M161025_MP030_20161120.mat','spont_M170717_MP033_20170818.mat','spont_M170717_MP034_20170825.mat',\n",
    " 'spont_M160825_MP027_20161212.mat','spont_M160907_MP028_20160926.mat','spont_M161025_MP030_20170616.mat',\n",
    " 'spont_M161025_MP030_20170623.mat','spont_M170714_MP032_20170804.mat','spont_M150824_MP019_20160405.mat']\n",
    "\n",
    "mice_names =['mouse1','mouse2','mouse3','mouse4','mouse5','mouse6','mouse7','mouse8','mouse9']\n",
    "\n",
    "rat = mice_files[MOUSE_IND]\n",
    "fname = mice_files[MOUSE_IND]#\"spont_M170717_MP034_2017-08-25.mat\"\n",
    "url = general_url#\"https://figshare.com/ndownloader/files/11492261\"\n",
    "\n",
    "dat = scipy.io.loadmat(dirf+mice_files[MOUSE_IND])"
   ]
  },
  {
   "cell_type": "code",
   "execution_count": 25,
   "id": "b48882a8",
   "metadata": {},
   "outputs": [
    {
     "data": {
      "text/plain": [
       "(15761, 1)"
      ]
     },
     "execution_count": 25,
     "metadata": {},
     "output_type": "execute_result"
    }
   ],
   "source": [
    "pupilArea = dat['beh'][0]['pupil'][0]['area'][0][0]\n",
    "pupilArea = np.array([[x for x in pupilArea.T[0] if not np.isnan(x)]]).T #original pupilArea contains nans\n",
    "runSpeed = dat['beh'][0]['runSpeed'][0]\n",
    "runSpeed = np.array([[x for x in runSpeed.T[0] if not np.isnan(x)]]).T #original runSpeed contains nans\n",
    "\n",
    "runSpeed.shape"
   ]
  },
  {
   "cell_type": "code",
   "execution_count": 77,
   "id": "32fc3250",
   "metadata": {},
   "outputs": [
    {
     "name": "stderr",
     "output_type": "stream",
     "text": [
      "C:\\Users\\Facundo\\AppData\\Local\\Temp\\ipykernel_4404\\3830337151.py:14: RuntimeWarning: invalid value encountered in divide\n",
      "  mnFr = firingrate/total_cellfiring/maprate\n"
     ]
    }
   ],
   "source": [
    "info = compute_1Dinfo(dat['Fsp'].T,runSpeed)"
   ]
  },
  {
   "cell_type": "code",
   "execution_count": 78,
   "id": "a44884f8",
   "metadata": {},
   "outputs": [
    {
     "data": {
      "text/plain": [
       "(array([9315.,    0.,    0.,    0.,    0.,    0.,    0.,    0.,    0.,\n",
       "         849.]),\n",
       " array([-8.84724163e-04, -7.96251747e-04, -7.07779331e-04, -6.19306914e-04,\n",
       "        -5.30834498e-04, -4.42362082e-04, -3.53889665e-04, -2.65417249e-04,\n",
       "        -1.76944833e-04, -8.84724163e-05,  0.00000000e+00]),\n",
       " <BarContainer object of 10 artists>)"
      ]
     },
     "execution_count": 78,
     "metadata": {},
     "output_type": "execute_result"
    },
    {
     "data": {
      "image/png": "[encoded data removed]",
      "text/plain": [
       "<Figure size 432x288 with 1 Axes>"
      ]
     },
     "metadata": {
      "needs_background": "light"
     },
     "output_type": "display_data"
    }
   ],
   "source": [
    "plt.hist(info)"
   ]
  },
  {
   "cell_type": "code",
   "execution_count": 66,
   "id": "a4d99e9d",
   "metadata": {},
   "outputs": [
    {
     "data": {
      "text/plain": [
       "10164"
      ]
     },
     "execution_count": 66,
     "metadata": {},
     "output_type": "execute_result"
    }
   ],
   "source": [
    "len(info[-1])"
   ]
  },
  {
   "cell_type": "code",
   "execution_count": null,
   "id": "ae0a6130",
   "metadata": {},
   "outputs": [],
   "source": []
  },
  {
   "cell_type": "code",
   "execution_count": null,
   "id": "bfca37a9",
   "metadata": {},
   "outputs": [],
   "source": []
  },
  {
   "cell_type": "code",
   "execution_count": null,
   "id": "3aaf7ca3",
   "metadata": {},
   "outputs": [],
   "source": []
  },
  {
   "cell_type": "code",
   "execution_count": null,
   "id": "01871e38",
   "metadata": {},
   "outputs": [],
   "source": []
  },
  {
   "cell_type": "code",
   "execution_count": null,
   "id": "46bb1903",
   "metadata": {},
   "outputs": [],
   "source": []
  },
  {
   "cell_type": "code",
   "execution_count": null,
   "id": "d1a5682b",
   "metadata": {},
   "outputs": [],
   "source": []
  }
 ],
 "metadata": {
  "kernelspec": {
   "display_name": "Python 3 (ipykernel)",
   "language": "python",
   "name": "python3"
  },
  "language_info": {
   "codemirror_mode": {
    "name": "ipython",
    "version": 3
   },
   "file_extension": ".py",
   "mimetype": "text/x-python",
   "name": "python",
   "nbconvert_exporter": "python",
   "pygments_lexer": "ipython3",
   "version": "3.8.12"
  }
 },
 "nbformat": 4,
 "nbformat_minor": 5
}
